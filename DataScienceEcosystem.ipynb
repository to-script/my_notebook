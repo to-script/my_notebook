{
 "cells": [
  {
   "cell_type": "markdown",
   "id": "69c7dc9f",
   "metadata": {},
   "source": [
    "# Data Science Tools and Ecosystem"
   ]
  },
  {
   "cell_type": "markdown",
   "id": "335fa9ba",
   "metadata": {},
   "source": [
    "In this notebook, Data Science Tools and Ecosystem are summarized."
   ]
  },
  {
   "cell_type": "markdown",
   "id": "dd2348ce",
   "metadata": {},
   "source": [
    "**Objectives:**\n",
    "- Understand what data science is and what it involves  \n",
    "- Learn about some of the most popular programming languages used in data science  \n",
    "- Use basic arithmetic expressions in Python  \n",
    "- Get familiar with Git and GitHub and their roles in collaboration  \n",
    "- Learn how to create and manage repositories on GitHub"
   ]
  },
  {
   "cell_type": "markdown",
   "id": "04142d19",
   "metadata": {},
   "source": [
    "Some of the popular languages that Data Scientists use are:\n",
    "1. python\n",
    "2. R\n",
    "3. java\n",
    "4. c++"
   ]
  },
  {
   "cell_type": "markdown",
   "id": "472734b0",
   "metadata": {},
   "source": [
    "Some of the commonly used libraries used by Data Scientists include:\n",
    "1. pandas\n",
    "2. numpy\n",
    "3. matplotlib\n",
    "4. sk-learn\n",
    "5. pytouch\n",
    "6. tensorflow\n",
    "7. seaborn\n"
   ]
  },
  {
   "cell_type": "markdown",
   "id": "1dbe42ad",
   "metadata": {},
   "source": [
    "|Data Science Tools|\n",
    "|------------------|\n",
    "|apache zeppelin|\n",
    "|jupyter notebook|\n",
    "|RStudio|"
   ]
  },
  {
   "cell_type": "markdown",
   "id": "e81a5b38",
   "metadata": {},
   "source": [
    "### Below are a few examples of evaluating arithmetic expressions in Python\n",
    "sum: 1 + 1 = 2\n",
    "\n",
    "res: = 1 - 1 = 0\n",
    "\n",
    "mult: = 1 * 1 = 1\n",
    "\n",
    "div: = 1 / 1 = 1\n"
   ]
  },
  {
   "cell_type": "code",
   "execution_count": 18,
   "id": "eea55392",
   "metadata": {},
   "outputs": [
    {
     "name": "stdout",
     "output_type": "stream",
     "text": [
      "17\n"
     ]
    }
   ],
   "source": [
    "# This a simple arithmetic expression to mutiply then add integers\n",
    "expression = (3*4)+5\n",
    "print(expression)"
   ]
  },
  {
   "cell_type": "code",
   "execution_count": 19,
   "id": "90451ce6",
   "metadata": {},
   "outputs": [
    {
     "name": "stdout",
     "output_type": "stream",
     "text": [
      "result: 3.3333333333333335\n"
     ]
    }
   ],
   "source": [
    "# This will convert 200 minutes to hours by diving by 60\n",
    "convert = 200 / 60\n",
    "print(f\"result: {convert}\")"
   ]
  },
  {
   "cell_type": "markdown",
   "id": "e9c3d3a6",
   "metadata": {},
   "source": [
    "## Author\n",
    "Tomas Francisco Valverde"
   ]
  }
 ],
 "metadata": {
  "kernelspec": {
   "display_name": "base",
   "language": "python",
   "name": "python3"
  },
  "language_info": {
   "codemirror_mode": {
    "name": "ipython",
    "version": 3
   },
   "file_extension": ".py",
   "mimetype": "text/x-python",
   "name": "python",
   "nbconvert_exporter": "python",
   "pygments_lexer": "ipython3",
   "version": "3.13.5"
  }
 },
 "nbformat": 4,
 "nbformat_minor": 5
}
